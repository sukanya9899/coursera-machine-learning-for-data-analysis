{
  "nbformat": 4,
  "nbformat_minor": 0,
  "metadata": {
    "colab": {
      "name": "assignment2.ipynb",
      "provenance": []
    },
    "kernelspec": {
      "name": "python3",
      "display_name": "Python 3"
    },
    "language_info": {
      "name": "python"
    }
  },
  "cells": [
    {
      "cell_type": "code",
      "source": [
        "import pandas as pd\n",
        "import numpy as np\n",
        "import matplotlib.pylab as plt\n",
        "from sklearn.model_selection import train_test_split\n",
        "from sklearn.ensemble import RandomForestClassifier\n",
        "from sklearn.ensemble import ExtraTreesClassifier\n",
        "from sklearn.metrics import confusion_matrix\n",
        "from sklearn.metrics import accuracy_score\n",
        "%matplotlib inline\n",
        "RND_STATE = 55324"
      ],
      "metadata": {
        "id": "rheWVnDuCpDn"
      },
      "execution_count": 1,
      "outputs": []
    },
    {
      "cell_type": "code",
      "source": [
        "AH_data = pd.read_csv(\"data/tree_addhealth.csv\")\n",
        "data_clean = AH_data.dropna()\n",
        "data_clean.dtypes"
      ],
      "metadata": {
        "colab": {
          "base_uri": "https://localhost:8080/"
        },
        "id": "IpMmC3dxCp1t",
        "outputId": "e5d588da-be93-4036-a32c-68536060ebb2"
      },
      "execution_count": 2,
      "outputs": [
        {
          "output_type": "execute_result",
          "data": {
            "text/plain": [
              "BIO_SEX      float64\n",
              "HISPANIC     float64\n",
              "WHITE        float64\n",
              "BLACK        float64\n",
              "NAMERICAN    float64\n",
              "ASIAN        float64\n",
              "age          float64\n",
              "TREG1        float64\n",
              "ALCEVR1      float64\n",
              "ALCPROBS1      int64\n",
              "marever1       int64\n",
              "cocever1       int64\n",
              "inhever1       int64\n",
              "cigavail     float64\n",
              "DEP1         float64\n",
              "ESTEEM1      float64\n",
              "VIOL1        float64\n",
              "PASSIST        int64\n",
              "DEVIANT1     float64\n",
              "SCHCONN1     float64\n",
              "GPA1         float64\n",
              "EXPEL1       float64\n",
              "FAMCONCT     float64\n",
              "PARACTV      float64\n",
              "PARPRES      float64\n",
              "dtype: object"
            ]
          },
          "metadata": {},
          "execution_count": 2
        }
      ]
    },
    {
      "cell_type": "code",
      "source": [
        "data_clean.describe()"
      ],
      "metadata": {
        "colab": {
          "base_uri": "https://localhost:8080/",
          "height": 394
        },
        "id": "qtac7ldbCssQ",
        "outputId": "55c5001f-2c8a-45ec-d0f3-c78a4f78fc34"
      },
      "execution_count": 3,
      "outputs": [
        {
          "output_type": "execute_result",
          "data": {
            "text/plain": [
              "           BIO_SEX     HISPANIC        WHITE        BLACK    NAMERICAN  \\\n",
              "count  4575.000000  4575.000000  4575.000000  4575.000000  4575.000000   \n",
              "mean      1.521093     0.111038     0.683279     0.236066     0.036284   \n",
              "std       0.499609     0.314214     0.465249     0.424709     0.187017   \n",
              "min       1.000000     0.000000     0.000000     0.000000     0.000000   \n",
              "25%       1.000000     0.000000     0.000000     0.000000     0.000000   \n",
              "50%       2.000000     0.000000     1.000000     0.000000     0.000000   \n",
              "75%       2.000000     0.000000     1.000000     0.000000     0.000000   \n",
              "max       2.000000     1.000000     1.000000     1.000000     1.000000   \n",
              "\n",
              "             ASIAN          age        TREG1      ALCEVR1    ALCPROBS1  ...  \\\n",
              "count  4575.000000  4575.000000  4575.000000  4575.000000  4575.000000  ...   \n",
              "mean      0.040437    16.493052     0.176393     0.527432     0.369180  ...   \n",
              "std       0.197004     1.552174     0.381196     0.499302     0.894947  ...   \n",
              "min       0.000000    12.676712     0.000000     0.000000     0.000000  ...   \n",
              "25%       0.000000    15.254795     0.000000     0.000000     0.000000  ...   \n",
              "50%       0.000000    16.509589     0.000000     1.000000     0.000000  ...   \n",
              "75%       0.000000    17.679452     0.000000     1.000000     0.000000  ...   \n",
              "max       1.000000    21.512329     1.000000     1.000000     6.000000  ...   \n",
              "\n",
              "           ESTEEM1        VIOL1      PASSIST     DEVIANT1     SCHCONN1  \\\n",
              "count  4575.000000  4575.000000  4575.000000  4575.000000  4575.000000   \n",
              "mean     40.952131     1.618579     0.102514     2.645027    28.360656   \n",
              "std       5.381439     2.593230     0.303356     3.520554     5.156385   \n",
              "min      18.000000     0.000000     0.000000     0.000000     6.000000   \n",
              "25%      38.000000     0.000000     0.000000     0.000000    25.000000   \n",
              "50%      40.000000     0.000000     0.000000     1.000000    29.000000   \n",
              "75%      45.000000     2.000000     0.000000     4.000000    32.000000   \n",
              "max      50.000000    19.000000     1.000000    27.000000    38.000000   \n",
              "\n",
              "              GPA1       EXPEL1     FAMCONCT      PARACTV      PARPRES  \n",
              "count  4575.000000  4575.000000  4575.000000  4575.000000  4575.000000  \n",
              "mean      2.815647     0.040219    22.570557     6.290710    13.398033  \n",
              "std       0.770167     0.196493     2.614754     3.360219     2.085837  \n",
              "min       1.000000     0.000000     6.300000     0.000000     3.000000  \n",
              "25%       2.250000     0.000000    21.700000     4.000000    12.000000  \n",
              "50%       2.750000     0.000000    23.700000     6.000000    14.000000  \n",
              "75%       3.500000     0.000000    24.300000     9.000000    15.000000  \n",
              "max       4.000000     1.000000    25.000000    18.000000    15.000000  \n",
              "\n",
              "[8 rows x 25 columns]"
            ],
            "text/html": [
              "\n",
              "  <div id=\"df-d5abe545-ed4b-43da-9d66-81e404e919c3\">\n",
              "    <div class=\"colab-df-container\">\n",
              "      <div>\n",
              "<style scoped>\n",
              "    .dataframe tbody tr th:only-of-type {\n",
              "        vertical-align: middle;\n",
              "    }\n",
              "\n",
              "    .dataframe tbody tr th {\n",
              "        vertical-align: top;\n",
              "    }\n",
              "\n",
              "    .dataframe thead th {\n",
              "        text-align: right;\n",
              "    }\n",
              "</style>\n",
              "<table border=\"1\" class=\"dataframe\">\n",
              "  <thead>\n",
              "    <tr style=\"text-align: right;\">\n",
              "      <th></th>\n",
              "      <th>BIO_SEX</th>\n",
              "      <th>HISPANIC</th>\n",
              "      <th>WHITE</th>\n",
              "      <th>BLACK</th>\n",
              "      <th>NAMERICAN</th>\n",
              "      <th>ASIAN</th>\n",
              "      <th>age</th>\n",
              "      <th>TREG1</th>\n",
              "      <th>ALCEVR1</th>\n",
              "      <th>ALCPROBS1</th>\n",
              "      <th>...</th>\n",
              "      <th>ESTEEM1</th>\n",
              "      <th>VIOL1</th>\n",
              "      <th>PASSIST</th>\n",
              "      <th>DEVIANT1</th>\n",
              "      <th>SCHCONN1</th>\n",
              "      <th>GPA1</th>\n",
              "      <th>EXPEL1</th>\n",
              "      <th>FAMCONCT</th>\n",
              "      <th>PARACTV</th>\n",
              "      <th>PARPRES</th>\n",
              "    </tr>\n",
              "  </thead>\n",
              "  <tbody>\n",
              "    <tr>\n",
              "      <th>count</th>\n",
              "      <td>4575.000000</td>\n",
              "      <td>4575.000000</td>\n",
              "      <td>4575.000000</td>\n",
              "      <td>4575.000000</td>\n",
              "      <td>4575.000000</td>\n",
              "      <td>4575.000000</td>\n",
              "      <td>4575.000000</td>\n",
              "      <td>4575.000000</td>\n",
              "      <td>4575.000000</td>\n",
              "      <td>4575.000000</td>\n",
              "      <td>...</td>\n",
              "      <td>4575.000000</td>\n",
              "      <td>4575.000000</td>\n",
              "      <td>4575.000000</td>\n",
              "      <td>4575.000000</td>\n",
              "      <td>4575.000000</td>\n",
              "      <td>4575.000000</td>\n",
              "      <td>4575.000000</td>\n",
              "      <td>4575.000000</td>\n",
              "      <td>4575.000000</td>\n",
              "      <td>4575.000000</td>\n",
              "    </tr>\n",
              "    <tr>\n",
              "      <th>mean</th>\n",
              "      <td>1.521093</td>\n",
              "      <td>0.111038</td>\n",
              "      <td>0.683279</td>\n",
              "      <td>0.236066</td>\n",
              "      <td>0.036284</td>\n",
              "      <td>0.040437</td>\n",
              "      <td>16.493052</td>\n",
              "      <td>0.176393</td>\n",
              "      <td>0.527432</td>\n",
              "      <td>0.369180</td>\n",
              "      <td>...</td>\n",
              "      <td>40.952131</td>\n",
              "      <td>1.618579</td>\n",
              "      <td>0.102514</td>\n",
              "      <td>2.645027</td>\n",
              "      <td>28.360656</td>\n",
              "      <td>2.815647</td>\n",
              "      <td>0.040219</td>\n",
              "      <td>22.570557</td>\n",
              "      <td>6.290710</td>\n",
              "      <td>13.398033</td>\n",
              "    </tr>\n",
              "    <tr>\n",
              "      <th>std</th>\n",
              "      <td>0.499609</td>\n",
              "      <td>0.314214</td>\n",
              "      <td>0.465249</td>\n",
              "      <td>0.424709</td>\n",
              "      <td>0.187017</td>\n",
              "      <td>0.197004</td>\n",
              "      <td>1.552174</td>\n",
              "      <td>0.381196</td>\n",
              "      <td>0.499302</td>\n",
              "      <td>0.894947</td>\n",
              "      <td>...</td>\n",
              "      <td>5.381439</td>\n",
              "      <td>2.593230</td>\n",
              "      <td>0.303356</td>\n",
              "      <td>3.520554</td>\n",
              "      <td>5.156385</td>\n",
              "      <td>0.770167</td>\n",
              "      <td>0.196493</td>\n",
              "      <td>2.614754</td>\n",
              "      <td>3.360219</td>\n",
              "      <td>2.085837</td>\n",
              "    </tr>\n",
              "    <tr>\n",
              "      <th>min</th>\n",
              "      <td>1.000000</td>\n",
              "      <td>0.000000</td>\n",
              "      <td>0.000000</td>\n",
              "      <td>0.000000</td>\n",
              "      <td>0.000000</td>\n",
              "      <td>0.000000</td>\n",
              "      <td>12.676712</td>\n",
              "      <td>0.000000</td>\n",
              "      <td>0.000000</td>\n",
              "      <td>0.000000</td>\n",
              "      <td>...</td>\n",
              "      <td>18.000000</td>\n",
              "      <td>0.000000</td>\n",
              "      <td>0.000000</td>\n",
              "      <td>0.000000</td>\n",
              "      <td>6.000000</td>\n",
              "      <td>1.000000</td>\n",
              "      <td>0.000000</td>\n",
              "      <td>6.300000</td>\n",
              "      <td>0.000000</td>\n",
              "      <td>3.000000</td>\n",
              "    </tr>\n",
              "    <tr>\n",
              "      <th>25%</th>\n",
              "      <td>1.000000</td>\n",
              "      <td>0.000000</td>\n",
              "      <td>0.000000</td>\n",
              "      <td>0.000000</td>\n",
              "      <td>0.000000</td>\n",
              "      <td>0.000000</td>\n",
              "      <td>15.254795</td>\n",
              "      <td>0.000000</td>\n",
              "      <td>0.000000</td>\n",
              "      <td>0.000000</td>\n",
              "      <td>...</td>\n",
              "      <td>38.000000</td>\n",
              "      <td>0.000000</td>\n",
              "      <td>0.000000</td>\n",
              "      <td>0.000000</td>\n",
              "      <td>25.000000</td>\n",
              "      <td>2.250000</td>\n",
              "      <td>0.000000</td>\n",
              "      <td>21.700000</td>\n",
              "      <td>4.000000</td>\n",
              "      <td>12.000000</td>\n",
              "    </tr>\n",
              "    <tr>\n",
              "      <th>50%</th>\n",
              "      <td>2.000000</td>\n",
              "      <td>0.000000</td>\n",
              "      <td>1.000000</td>\n",
              "      <td>0.000000</td>\n",
              "      <td>0.000000</td>\n",
              "      <td>0.000000</td>\n",
              "      <td>16.509589</td>\n",
              "      <td>0.000000</td>\n",
              "      <td>1.000000</td>\n",
              "      <td>0.000000</td>\n",
              "      <td>...</td>\n",
              "      <td>40.000000</td>\n",
              "      <td>0.000000</td>\n",
              "      <td>0.000000</td>\n",
              "      <td>1.000000</td>\n",
              "      <td>29.000000</td>\n",
              "      <td>2.750000</td>\n",
              "      <td>0.000000</td>\n",
              "      <td>23.700000</td>\n",
              "      <td>6.000000</td>\n",
              "      <td>14.000000</td>\n",
              "    </tr>\n",
              "    <tr>\n",
              "      <th>75%</th>\n",
              "      <td>2.000000</td>\n",
              "      <td>0.000000</td>\n",
              "      <td>1.000000</td>\n",
              "      <td>0.000000</td>\n",
              "      <td>0.000000</td>\n",
              "      <td>0.000000</td>\n",
              "      <td>17.679452</td>\n",
              "      <td>0.000000</td>\n",
              "      <td>1.000000</td>\n",
              "      <td>0.000000</td>\n",
              "      <td>...</td>\n",
              "      <td>45.000000</td>\n",
              "      <td>2.000000</td>\n",
              "      <td>0.000000</td>\n",
              "      <td>4.000000</td>\n",
              "      <td>32.000000</td>\n",
              "      <td>3.500000</td>\n",
              "      <td>0.000000</td>\n",
              "      <td>24.300000</td>\n",
              "      <td>9.000000</td>\n",
              "      <td>15.000000</td>\n",
              "    </tr>\n",
              "    <tr>\n",
              "      <th>max</th>\n",
              "      <td>2.000000</td>\n",
              "      <td>1.000000</td>\n",
              "      <td>1.000000</td>\n",
              "      <td>1.000000</td>\n",
              "      <td>1.000000</td>\n",
              "      <td>1.000000</td>\n",
              "      <td>21.512329</td>\n",
              "      <td>1.000000</td>\n",
              "      <td>1.000000</td>\n",
              "      <td>6.000000</td>\n",
              "      <td>...</td>\n",
              "      <td>50.000000</td>\n",
              "      <td>19.000000</td>\n",
              "      <td>1.000000</td>\n",
              "      <td>27.000000</td>\n",
              "      <td>38.000000</td>\n",
              "      <td>4.000000</td>\n",
              "      <td>1.000000</td>\n",
              "      <td>25.000000</td>\n",
              "      <td>18.000000</td>\n",
              "      <td>15.000000</td>\n",
              "    </tr>\n",
              "  </tbody>\n",
              "</table>\n",
              "<p>8 rows × 25 columns</p>\n",
              "</div>\n",
              "      <button class=\"colab-df-convert\" onclick=\"convertToInteractive('df-d5abe545-ed4b-43da-9d66-81e404e919c3')\"\n",
              "              title=\"Convert this dataframe to an interactive table.\"\n",
              "              style=\"display:none;\">\n",
              "        \n",
              "  <svg xmlns=\"http://www.w3.org/2000/svg\" height=\"24px\"viewBox=\"0 0 24 24\"\n",
              "       width=\"24px\">\n",
              "    <path d=\"M0 0h24v24H0V0z\" fill=\"none\"/>\n",
              "    <path d=\"M18.56 5.44l.94 2.06.94-2.06 2.06-.94-2.06-.94-.94-2.06-.94 2.06-2.06.94zm-11 1L8.5 8.5l.94-2.06 2.06-.94-2.06-.94L8.5 2.5l-.94 2.06-2.06.94zm10 10l.94 2.06.94-2.06 2.06-.94-2.06-.94-.94-2.06-.94 2.06-2.06.94z\"/><path d=\"M17.41 7.96l-1.37-1.37c-.4-.4-.92-.59-1.43-.59-.52 0-1.04.2-1.43.59L10.3 9.45l-7.72 7.72c-.78.78-.78 2.05 0 2.83L4 21.41c.39.39.9.59 1.41.59.51 0 1.02-.2 1.41-.59l7.78-7.78 2.81-2.81c.8-.78.8-2.07 0-2.86zM5.41 20L4 18.59l7.72-7.72 1.47 1.35L5.41 20z\"/>\n",
              "  </svg>\n",
              "      </button>\n",
              "      \n",
              "  <style>\n",
              "    .colab-df-container {\n",
              "      display:flex;\n",
              "      flex-wrap:wrap;\n",
              "      gap: 12px;\n",
              "    }\n",
              "\n",
              "    .colab-df-convert {\n",
              "      background-color: #E8F0FE;\n",
              "      border: none;\n",
              "      border-radius: 50%;\n",
              "      cursor: pointer;\n",
              "      display: none;\n",
              "      fill: #1967D2;\n",
              "      height: 32px;\n",
              "      padding: 0 0 0 0;\n",
              "      width: 32px;\n",
              "    }\n",
              "\n",
              "    .colab-df-convert:hover {\n",
              "      background-color: #E2EBFA;\n",
              "      box-shadow: 0px 1px 2px rgba(60, 64, 67, 0.3), 0px 1px 3px 1px rgba(60, 64, 67, 0.15);\n",
              "      fill: #174EA6;\n",
              "    }\n",
              "\n",
              "    [theme=dark] .colab-df-convert {\n",
              "      background-color: #3B4455;\n",
              "      fill: #D2E3FC;\n",
              "    }\n",
              "\n",
              "    [theme=dark] .colab-df-convert:hover {\n",
              "      background-color: #434B5C;\n",
              "      box-shadow: 0px 1px 3px 1px rgba(0, 0, 0, 0.15);\n",
              "      filter: drop-shadow(0px 1px 2px rgba(0, 0, 0, 0.3));\n",
              "      fill: #FFFFFF;\n",
              "    }\n",
              "  </style>\n",
              "\n",
              "      <script>\n",
              "        const buttonEl =\n",
              "          document.querySelector('#df-d5abe545-ed4b-43da-9d66-81e404e919c3 button.colab-df-convert');\n",
              "        buttonEl.style.display =\n",
              "          google.colab.kernel.accessAllowed ? 'block' : 'none';\n",
              "\n",
              "        async function convertToInteractive(key) {\n",
              "          const element = document.querySelector('#df-d5abe545-ed4b-43da-9d66-81e404e919c3');\n",
              "          const dataTable =\n",
              "            await google.colab.kernel.invokeFunction('convertToInteractive',\n",
              "                                                     [key], {});\n",
              "          if (!dataTable) return;\n",
              "\n",
              "          const docLinkHtml = 'Like what you see? Visit the ' +\n",
              "            '<a target=\"_blank\" href=https://colab.research.google.com/notebooks/data_table.ipynb>data table notebook</a>'\n",
              "            + ' to learn more about interactive tables.';\n",
              "          element.innerHTML = '';\n",
              "          dataTable['output_type'] = 'display_data';\n",
              "          await google.colab.output.renderOutput(dataTable, element);\n",
              "          const docLink = document.createElement('div');\n",
              "          docLink.innerHTML = docLinkHtml;\n",
              "          element.appendChild(docLink);\n",
              "        }\n",
              "      </script>\n",
              "    </div>\n",
              "  </div>\n",
              "  "
            ]
          },
          "metadata": {},
          "execution_count": 3
        }
      ]
    },
    {
      "cell_type": "code",
      "source": [
        "predictors = data_clean[['BIO_SEX', 'HISPANIC', 'WHITE', 'BLACK', 'NAMERICAN', 'ASIAN', 'age',\n",
        "                         'ALCEVR1', 'ALCPROBS1', 'marever1', 'cocever1', 'inhever1', 'cigavail', 'DEP1', 'ESTEEM1',\n",
        "                         'VIOL1',\n",
        "                         'PASSIST', 'DEVIANT1', 'SCHCONN1', 'GPA1', 'EXPEL1', 'FAMCONCT', 'PARACTV', 'PARPRES']]\n",
        "\n",
        "targets = data_clean.TREG1\n",
        "\n",
        "pred_train, pred_test, tar_train, tar_test = train_test_split(predictors, targets, test_size=.4, random_state=RND_STATE)\n",
        "\n",
        "print(\"Predict train shape: \", pred_train.shape)\n",
        "print(\"Predict test shape: \", pred_test.shape)\n",
        "print(\"Target train shape: \", tar_train.shape)\n",
        "print(\"Target test shape: \", tar_test.shape)"
      ],
      "metadata": {
        "colab": {
          "base_uri": "https://localhost:8080/"
        },
        "id": "9c-r3ECfCvir",
        "outputId": "a0a50d13-f168-4461-b3dd-f28eda32b20f"
      },
      "execution_count": 4,
      "outputs": [
        {
          "output_type": "stream",
          "name": "stdout",
          "text": [
            "Predict train shape:  (2745, 24)\n",
            "Predict test shape:  (1830, 24)\n",
            "Target train shape:  (2745,)\n",
            "Target test shape:  (1830,)\n"
          ]
        }
      ]
    },
    {
      "cell_type": "code",
      "source": [
        "classifier = RandomForestClassifier(n_estimators=25, random_state=RND_STATE)\n",
        "classifier = classifier.fit(pred_train, tar_train)\n",
        "\n",
        "predictions = classifier.predict(pred_test)"
      ],
      "metadata": {
        "id": "w4-edUMiC0tr"
      },
      "execution_count": 5,
      "outputs": []
    },
    {
      "cell_type": "code",
      "source": [
        "print(\"Confusion matrix:\")\n",
        "print(confusion_matrix(tar_test, predictions))\n",
        "print()\n",
        "print(\"Accuracy: \", accuracy_score(tar_test, predictions))"
      ],
      "metadata": {
        "colab": {
          "base_uri": "https://localhost:8080/"
        },
        "id": "w0olCpuUC3ZS",
        "outputId": "05f3d0bb-9d8d-4044-da33-a2fb4fc76e5d"
      },
      "execution_count": 6,
      "outputs": [
        {
          "output_type": "stream",
          "name": "stdout",
          "text": [
            "Confusion matrix:\n",
            "[[1418   94]\n",
            " [ 208  110]]\n",
            "\n",
            "Accuracy:  0.8349726775956284\n"
          ]
        }
      ]
    },
    {
      "cell_type": "code",
      "source": [
        "important_features = pd.Series(data=classifier.feature_importances_,index=predictors.columns)\n",
        "important_features.sort_values(ascending=False,inplace=True)"
      ],
      "metadata": {
        "id": "MO06514rC5ws"
      },
      "execution_count": 7,
      "outputs": []
    },
    {
      "cell_type": "code",
      "source": [
        "important_features"
      ],
      "metadata": {
        "colab": {
          "base_uri": "https://localhost:8080/"
        },
        "id": "NZbKvks5C845",
        "outputId": "459d7988-25fe-47a2-f61f-bbcb049b8d90"
      },
      "execution_count": 8,
      "outputs": [
        {
          "output_type": "execute_result",
          "data": {
            "text/plain": [
              "marever1     0.096374\n",
              "age          0.083599\n",
              "DEVIANT1     0.080081\n",
              "SCHCONN1     0.075221\n",
              "GPA1         0.074775\n",
              "DEP1         0.071728\n",
              "FAMCONCT     0.067389\n",
              "PARACTV      0.063784\n",
              "ESTEEM1      0.057945\n",
              "ALCPROBS1    0.057670\n",
              "VIOL1        0.048614\n",
              "ALCEVR1      0.043539\n",
              "PARPRES      0.039425\n",
              "WHITE        0.022146\n",
              "cigavail     0.021671\n",
              "BLACK        0.018512\n",
              "BIO_SEX      0.014942\n",
              "inhever1     0.012832\n",
              "cocever1     0.012590\n",
              "PASSIST      0.010221\n",
              "EXPEL1       0.009777\n",
              "HISPANIC     0.007991\n",
              "NAMERICAN    0.005332\n",
              "ASIAN        0.003844\n",
              "dtype: float64"
            ]
          },
          "metadata": {},
          "execution_count": 8
        }
      ]
    },
    {
      "cell_type": "code",
      "source": [
        "model = ExtraTreesClassifier(random_state=RND_STATE)\n",
        "model.fit(pred_train, tar_train)"
      ],
      "metadata": {
        "colab": {
          "base_uri": "https://localhost:8080/"
        },
        "id": "oXRe0DWbDGYn",
        "outputId": "8a8ec701-73e9-4c15-acd6-34f06642d66a"
      },
      "execution_count": 9,
      "outputs": [
        {
          "output_type": "execute_result",
          "data": {
            "text/plain": [
              "ExtraTreesClassifier(random_state=55324)"
            ]
          },
          "metadata": {},
          "execution_count": 9
        }
      ]
    },
    {
      "cell_type": "code",
      "source": [
        "print(model.feature_importances_)"
      ],
      "metadata": {
        "colab": {
          "base_uri": "https://localhost:8080/"
        },
        "id": "-5d93hzoDJnX",
        "outputId": "1e06ebd0-4c97-4e5c-83c6-7dbba9f733ec"
      },
      "execution_count": 10,
      "outputs": [
        {
          "output_type": "stream",
          "name": "stdout",
          "text": [
            "[0.02477172 0.01425117 0.02652112 0.01932494 0.00776148 0.00596326\n",
            " 0.0620533  0.05350958 0.0488245  0.11525204 0.01815499 0.01784829\n",
            " 0.02657282 0.05793307 0.0529187  0.05255845 0.01607589 0.06814914\n",
            " 0.06217983 0.07360458 0.01143425 0.05815513 0.05710471 0.04907707]\n"
          ]
        }
      ]
    },
    {
      "cell_type": "code",
      "source": [
        "trees = range(25)\n",
        "accuracy = np.zeros(25)\n",
        "for idx in range(len(trees)):\n",
        "    classifier = RandomForestClassifier(n_estimators=idx + 1, random_state=RND_STATE)\n",
        "    classifier = classifier.fit(pred_train, tar_train)\n",
        "    predictions = classifier.predict(pred_test)\n",
        "    accuracy[idx] = accuracy_score(tar_test, predictions)"
      ],
      "metadata": {
        "id": "o2UbN7sJDNob"
      },
      "execution_count": 11,
      "outputs": []
    },
    {
      "cell_type": "code",
      "source": [
        "plt.cla()\n",
        "plt.plot(trees, accuracy)\n",
        "plt.show()"
      ],
      "metadata": {
        "colab": {
          "base_uri": "https://localhost:8080/",
          "height": 265
        },
        "id": "qzp6QthPDTE8",
        "outputId": "28a3dfb0-a7bf-4aac-e2e8-43ae71d22f4a"
      },
      "execution_count": 12,
      "outputs": [
        {
          "output_type": "display_data",
          "data": {
            "text/plain": [
              "<Figure size 432x288 with 1 Axes>"
            ],
            "image/png": "[encoded data removed]"
          },
          "metadata": {
            "needs_background": "light"
          }
        }
      ]
    },
    {
      "cell_type": "code",
      "source": [
        ""
      ],
      "metadata": {
        "id": "jYO7yTrADV5T"
      },
      "execution_count": null,
      "outputs": []
    }
  ]
}